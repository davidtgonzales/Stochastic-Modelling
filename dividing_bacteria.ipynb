{
 "metadata": {
  "name": ""
 },
 "nbformat": 3,
 "nbformat_minor": 0,
 "worksheets": [
  {
   "cells": [
    {
     "cell_type": "heading",
     "level": 1,
     "metadata": {},
     "source": [
      "Dividing Bacteria"
     ]
    },
    {
     "cell_type": "markdown",
     "metadata": {},
     "source": [
      "This is a stochastic model of dividing bacteria using the Gillespie algorithm. The steps involved are:\n",
      "\n",
      "1. set initial state of the bacteria,\n",
      "2. calculate the rate of division of the bacteria,\n",
      "3. calculate the time step (based on a random exponential distribution) for when division will occur,\n",
      "4. update the current state according to the transition, and\n",
      "5. iterate until final time.\n",
      "\n",
      "Ten trajectories will be modeled and then averaged out and compared with a deterministic model. The model is represented below."
     ]
    },
    {
     "cell_type": "markdown",
     "metadata": {},
     "source": [
      "$\\begin{equation}\n",
      "\\begin{split}\n",
      "let\\;\\; &N\\;=\\;bacterial\\;cell\\\\\n",
      "\\end{split}\n",
      "\\end{equation}$\n",
      "\n",
      "$\\begin{equation}\n",
      "N\\xrightarrow{k_1}2N\\\n",
      "\\end{equation}$\n",
      "\n",
      "$\\begin{equation}\n",
      "\\begin{split}\n",
      "where\\;k_1\\;is\\;the\\;rate\\;constant\\;for\\;the\\;division.\n",
      "\\end{split}\n",
      "\\end{equation}\\\\$"
     ]
    },
    {
     "cell_type": "markdown",
     "metadata": {},
     "source": [
      "Import the required packages."
     ]
    },
    {
     "cell_type": "code",
     "collapsed": false,
     "input": [
      "%matplotlib inline\n",
      "import random\n",
      "import numpy as np\n",
      "import matplotlib.pyplot as plt"
     ],
     "language": "python",
     "metadata": {},
     "outputs": [],
     "prompt_number": 11
    },
    {
     "cell_type": "markdown",
     "metadata": {},
     "source": [
      "Set the initial state of the bacteria, the maximum time of the model, the time for bacteria to divide, and the number of trajectories."
     ]
    },
    {
     "cell_type": "code",
     "collapsed": false,
     "input": [
      "initialN=1\n",
      "maxT=100.0\n",
      "divT=0.0347\n",
      "trajectories=4"
     ],
     "language": "python",
     "metadata": {},
     "outputs": [],
     "prompt_number": 12
    },
    {
     "cell_type": "markdown",
     "metadata": {},
     "source": [
      "Run the function **trajectory** which uses the Gillespie algorithm to get a single trajectory or simulation of the model. Repeat to get several trajectories and plot these together in one graph. "
     ]
    },
    {
     "cell_type": "code",
     "collapsed": false,
     "input": [
      "def trajectory(initialN,maxT,divT):\n",
      "    states=[initialN]\n",
      "    times=[0]\n",
      "    while times[len(times)-1]<=maxT:\n",
      "        rate=states[len(states)-1]*divT\n",
      "        step=random.expovariate(rate)\n",
      "        states.append(states[len(states)-1]+1)\n",
      "        times.append(times[len(times)-1]+step)\n",
      "        \n",
      "    return states,times"
     ],
     "language": "python",
     "metadata": {},
     "outputs": [],
     "prompt_number": 13
    },
    {
     "cell_type": "code",
     "collapsed": false,
     "input": [
      "stateruns=[]\n",
      "timeruns=[]\n",
      "for item in range(trajectories):\n",
      "    states,times=trajectory(initialN,maxT,divT)\n",
      "    stateruns.append(states)\n",
      "    timeruns.append(times)"
     ],
     "language": "python",
     "metadata": {},
     "outputs": [],
     "prompt_number": 14
    },
    {
     "cell_type": "markdown",
     "metadata": {},
     "source": [
      "Plot the trajectories."
     ]
    },
    {
     "cell_type": "code",
     "collapsed": false,
     "input": [
      "run0,=plt.plot(timeruns[0],stateruns[0],'ro') \n",
      "run1,=plt.plot(timeruns[1],stateruns[1],'bo')\n",
      "run2,=plt.plot(timeruns[2],stateruns[2],'go')\n",
      "run3,=plt.plot(timeruns[3],stateruns[3],'yo')\n",
      "plt.xlabel('Time')\n",
      "plt.ylabel('No. of Bacteria')\n",
      "plt.xlim(0,maxT)\n",
      "plt.legend([run0,run1,run2,run3],['run 1','run 2','run 3','run 4'],loc=2)\n",
      "plt.show()"
     ],
     "language": "python",
     "metadata": {},
     "outputs": [
      {
       "metadata": {},
       "output_type": "display_data",
       "png": "[encoded data removed]",
       "text": [
        "<matplotlib.figure.Figure at 0x7efede37ec50>"
       ]
      }
     ],
     "prompt_number": 15
    },
    {
     "cell_type": "markdown",
     "metadata": {},
     "source": [
      "Create a time series plot to show uniformly spaced time points using the **timeseries** function. Using the time series data, calculate the time series average as well."
     ]
    },
    {
     "cell_type": "code",
     "collapsed": false,
     "input": [
      "def timeseries(timepointsN,maxT,states,times):\n",
      "    timeintervals=np.linspace(0,maxT,num=timepointsN)\n",
      "    stateintervals=[]\n",
      "    index=0\n",
      "    for interval in timeintervals:\n",
      "        while times[index]<interval:\n",
      "            index=index+1\n",
      "        stateintervals.append(states[index])\n",
      "         \n",
      "    return timeintervals,stateintervals"
     ],
     "language": "python",
     "metadata": {},
     "outputs": [],
     "prompt_number": 16
    },
    {
     "cell_type": "code",
     "collapsed": false,
     "input": [
      "timepointsN=20\n",
      "timeintervalruns=[]\n",
      "stateintervalruns=[]\n",
      "statesum=np.zeros(timepointsN)\n",
      "for item in range(trajectories):\n",
      "    timeintervals,stateintervals=timeseries(timepointsN,maxT,stateruns[item],timeruns[item])\n",
      "    timeintervalruns.append(timeintervals)\n",
      "    stateintervalruns.append(stateintervals)\n",
      "    statesum=statesum+np.array(stateintervals)\n",
      "    \n",
      "stateaverage=statesum/trajectories"
     ],
     "language": "python",
     "metadata": {},
     "outputs": [],
     "prompt_number": 17
    },
    {
     "cell_type": "markdown",
     "metadata": {},
     "source": [
      "Plot the time series."
     ]
    },
    {
     "cell_type": "code",
     "collapsed": false,
     "input": [
      "run0,=plt.plot(timeintervalruns[0],stateintervalruns[0],'ro') \n",
      "run1,=plt.plot(timeintervalruns[1],stateintervalruns[1],'bo')\n",
      "run2,=plt.plot(timeintervalruns[2],stateintervalruns[2],'go')\n",
      "run3,=plt.plot(timeintervalruns[3],stateintervalruns[3],'yo')\n",
      "ave,=plt.plot(timeintervalruns[3],stateaverage,'k')\n",
      "plt.xlabel('Time')\n",
      "plt.ylabel('No. of Bacteria')\n",
      "plt.xlim(0,maxT)\n",
      "plt.legend([run0,run1,run2,run3,ave],['run 1','run 2','run 3','run 4','average'],loc=2)\n",
      "plt.show()"
     ],
     "language": "python",
     "metadata": {},
     "outputs": [
      {
       "metadata": {},
       "output_type": "display_data",
       "png": "[encoded data removed]",
       "text": [
        "<matplotlib.figure.Figure at 0x7efede19e3d0>"
       ]
      }
     ],
     "prompt_number": 18
    },
    {
     "cell_type": "markdown",
     "metadata": {},
     "source": [
      "Solve the same model using a deterministic numerical ODE solution."
     ]
    },
    {
     "cell_type": "markdown",
     "metadata": {},
     "source": [
      "$\\begin{equation}\n",
      "\\begin{split}\\\n",
      "&\\frac{dN}{dt}=k_1[N]\\\\\n",
      "\\end{split}\n",
      "\\end{equation}\\\\$\n",
      "\n",
      "$\\begin{equation}\n",
      "\\begin{split}\n",
      "where\\;k_1=divT\\;(time\\;for\\;a\\;bacterial\\;cell\\;to\\;divide)\n",
      "\\end{split}\n",
      "\\end{equation}\\\\$"
     ]
    },
    {
     "cell_type": "code",
     "collapsed": false,
     "input": [
      "delta_t=0.1\n",
      "states_ODE=[initialN]\n",
      "times_ODE=[0]\n",
      "while times_ODE[len(times_ODE)-1]<=maxT:\n",
      "    states_ODE.append(states_ODE[len(states_ODE)-1]+divT*delta_t*states_ODE[len(states_ODE)-1])\n",
      "    times_ODE.append(times_ODE[len(times_ODE)-1]+delta_t)"
     ],
     "language": "python",
     "metadata": {},
     "outputs": [],
     "prompt_number": 19
    },
    {
     "cell_type": "markdown",
     "metadata": {},
     "source": [
      "Plot the deterministic model in comparison with the time series average."
     ]
    },
    {
     "cell_type": "code",
     "collapsed": false,
     "input": [
      "ave,=plt.plot(timeintervalruns[3],stateaverage,'k')\n",
      "det,=plt.plot(times_ODE,states_ODE,'r')\n",
      "plt.xlabel('Time')\n",
      "plt.ylabel('No. of Bacteria')\n",
      "plt.xlim(0,maxT)\n",
      "plt.legend([ave,det],['stochastic average','deterministic ODE'],loc=2)\n",
      "plt.show()"
     ],
     "language": "python",
     "metadata": {},
     "outputs": [
      {
       "metadata": {},
       "output_type": "display_data",
       "png": "[encoded data removed]",
       "text": [
        "<matplotlib.figure.Figure at 0x7efede24e350>"
       ]
      }
     ],
     "prompt_number": 20
    },
    {
     "cell_type": "code",
     "collapsed": false,
     "input": [],
     "language": "python",
     "metadata": {},
     "outputs": [],
     "prompt_number": 20
    },
    {
     "cell_type": "code",
     "collapsed": false,
     "input": [],
     "language": "python",
     "metadata": {},
     "outputs": []
    }
   ],
   "metadata": {}
  }
 ]
}
